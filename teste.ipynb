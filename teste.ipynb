{
 "cells": [
  {
   "cell_type": "code",
   "execution_count": 40,
   "metadata": {},
   "outputs": [],
   "source": [
    "import requests, json, time\n",
    "from funcoes import abrir_pagina"
   ]
  },
  {
   "cell_type": "code",
   "execution_count": 41,
   "metadata": {},
   "outputs": [],
   "source": [
    "url = \"https://pegadinha-ti.vercel.app/pegadinha\"\n",
    "response = requests.request(\"GET\", url)\n",
    "saida = json.loads(response.text)"
   ]
  },
  {
   "cell_type": "code",
   "execution_count": 42,
   "metadata": {},
   "outputs": [
    {
     "data": {
      "text/plain": [
       "{'item1': False, 'item2': False, 'item3': False, 'item4': False}"
      ]
     },
     "execution_count": 42,
     "metadata": {},
     "output_type": "execute_result"
    }
   ],
   "source": [
    "saida"
   ]
  },
  {
   "cell_type": "code",
   "execution_count": 48,
   "metadata": {},
   "outputs": [
    {
     "name": "stdout",
     "output_type": "stream",
     "text": [
      "item1 atualizado com sucesso para True.\n",
      "Resposta do servidor: {'item1': True, 'item2': False, 'item3': False, 'item4': False}\n"
     ]
    }
   ],
   "source": [
    "import requests\n",
    "\n",
    "def atualizar_item(url, item_chave, novo_valor):\n",
    "    payload = {item_chave: novo_valor}    \n",
    "    try:\n",
    "        resposta = requests.post(url, json=payload)\n",
    "        \n",
    "        if resposta.status_code == 200:\n",
    "            print(f\"{item_chave} atualizado com sucesso para {novo_valor}.\")\n",
    "            print(\"Resposta do servidor:\", resposta.json())\n",
    "        else:\n",
    "            print(f\"Falha ao atualizar {item_chave}. Status code: {resposta.status_code}\")\n",
    "            print(\"Resposta:\", resposta.text)\n",
    "    except requests.RequestException as e:\n",
    "        print(f\"Erro ao fazer requisição: {e}\")\n",
    "\n",
    "if __name__ == \"__main__\":\n",
    "    url = \"https://pegadinha-ti.vercel.app/pegadinha\"\n",
    "    item_chave = \"item1\"\n",
    "    novo_valor = True\n",
    "    # novo_valor = False\n",
    "    atualizar_item(url, item_chave, novo_valor)"
   ]
  },
  {
   "cell_type": "code",
   "execution_count": 49,
   "metadata": {},
   "outputs": [
    {
     "name": "stdout",
     "output_type": "stream",
     "text": [
      "True\n",
      "item1 atualizado com sucesso para False.\n",
      "Resposta do servidor: {'item1': False, 'item2': False, 'item3': False, 'item4': False}\n",
      "Falso\n",
      "Falso\n",
      "Falso\n",
      "Falso\n",
      "Falso\n",
      "Falso\n",
      "Falso\n",
      "Falso\n",
      "Falso\n",
      "Falso\n",
      "Falso\n",
      "Falso\n",
      "Falso\n",
      "Falso\n",
      "Falso\n",
      "Falso\n",
      "Falso\n",
      "Falso\n",
      "Falso\n",
      "True\n",
      "item1 atualizado com sucesso para False.\n",
      "Resposta do servidor: {'item1': False, 'item2': False, 'item3': False, 'item4': False}\n",
      "Falso\n",
      "Falso\n",
      "Falso\n",
      "Falso\n",
      "Falso\n"
     ]
    },
    {
     "ename": "KeyboardInterrupt",
     "evalue": "",
     "output_type": "error",
     "traceback": [
      "\u001b[1;31m---------------------------------------------------------------------------\u001b[0m",
      "\u001b[1;31mKeyboardInterrupt\u001b[0m                         Traceback (most recent call last)",
      "Cell \u001b[1;32mIn[49], line 8\u001b[0m\n\u001b[0;32m      6\u001b[0m \u001b[38;5;28;01mif\u001b[39;00m saida\u001b[38;5;241m.\u001b[39mget(\u001b[38;5;124m'\u001b[39m\u001b[38;5;124mitem1\u001b[39m\u001b[38;5;124m'\u001b[39m) \u001b[38;5;241m==\u001b[39m \u001b[38;5;28;01mFalse\u001b[39;00m:\n\u001b[0;32m      7\u001b[0m \t\u001b[38;5;28mprint\u001b[39m(\u001b[38;5;124m'\u001b[39m\u001b[38;5;124mFalso\u001b[39m\u001b[38;5;124m'\u001b[39m)\n\u001b[1;32m----> 8\u001b[0m \t\u001b[43mtime\u001b[49m\u001b[38;5;241;43m.\u001b[39;49m\u001b[43msleep\u001b[49m\u001b[43m(\u001b[49m\u001b[38;5;241;43m2\u001b[39;49m\u001b[43m)\u001b[49m\n\u001b[0;32m      9\u001b[0m \u001b[38;5;28;01melif\u001b[39;00m saida\u001b[38;5;241m.\u001b[39mget(\u001b[38;5;124m'\u001b[39m\u001b[38;5;124mitem1\u001b[39m\u001b[38;5;124m'\u001b[39m) \u001b[38;5;241m==\u001b[39m \u001b[38;5;28;01mTrue\u001b[39;00m:\n\u001b[0;32m     10\u001b[0m \t\u001b[38;5;28mprint\u001b[39m(\u001b[38;5;124m'\u001b[39m\u001b[38;5;124mTrue\u001b[39m\u001b[38;5;124m'\u001b[39m)\n",
      "\u001b[1;31mKeyboardInterrupt\u001b[0m: "
     ]
    }
   ],
   "source": [
    "while True:\n",
    "\turl = \"https://pegadinha-ti.vercel.app/pegadinha\"\n",
    "\tresponse = requests.request(\"GET\", url)\n",
    "\tsaida = json.loads(response.text)\n",
    "    \n",
    "\tif saida.get('item1') == False:\n",
    "\t\tprint('Falso')\n",
    "\t\ttime.sleep(2)\n",
    "\telif saida.get('item1') == True:\n",
    "\t\tprint('True')\n",
    "\t\tatualizar_item(url, item_chave, False)\n",
    "\t\ttime.sleep(2)\n",
    "  \n",
    "\t"
   ]
  }
 ],
 "metadata": {
  "kernelspec": {
   "display_name": ".env",
   "language": "python",
   "name": "python3"
  },
  "language_info": {
   "codemirror_mode": {
    "name": "ipython",
    "version": 3
   },
   "file_extension": ".py",
   "mimetype": "text/x-python",
   "name": "python",
   "nbconvert_exporter": "python",
   "pygments_lexer": "ipython3",
   "version": "3.10.11"
  }
 },
 "nbformat": 4,
 "nbformat_minor": 2
}
